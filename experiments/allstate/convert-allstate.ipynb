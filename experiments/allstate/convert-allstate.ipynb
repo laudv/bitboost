{
 "cells": [
  {
   "cell_type": "code",
   "execution_count": null,
   "metadata": {},
   "outputs": [],
   "source": [
    "%load_ext autoreload\n",
    "%autoreload 2"
   ]
  },
  {
   "cell_type": "markdown",
   "metadata": {},
   "source": [
    "# Allstate Claims Severity dataset"
   ]
  },
  {
   "cell_type": "code",
   "execution_count": null,
   "metadata": {},
   "outputs": [],
   "source": [
    "# Source:\n",
    "# =======\n",
    "# https://www.kaggle.com/c/allstate-claims-severity/data\n",
    "#\n",
    "# Categorical: 0:116 (exclusive), numerical 116:130, target: 130\n",
    "\n",
    "import io, os, sys, timeit\n",
    "import pandas as pd\n",
    "import zipfile\n",
    "import numpy as np\n",
    "import sklearn.preprocessing as pre\n",
    "\n",
    "workdir = \"/tmp/experiments/allstate-claims\"\n",
    "source_data_zip = \"allstate-claims-severity.zip\"\n",
    "source_data_zip_path = os.path.join(workdir, source_data_zip)\n",
    "source_data_h5 = \"allstate-claims.h5\"\n",
    "source_data_h5_path = os.path.join(workdir, source_data_h5)\n",
    "h5_key = \"dataset\"\n",
    "\n",
    "bitboost_path = \"..\"\n",
    "\n",
    "if not os.path.isdir(workdir):\n",
    "    os.makedirs(workdir)"
   ]
  },
  {
   "cell_type": "code",
   "execution_count": null,
   "metadata": {
    "scrolled": true
   },
   "outputs": [],
   "source": [
    "# Prep the source data file if prepped files do not exist\n",
    "if not os.path.isfile(source_data_h5_path):\n",
    "    if not os.path.isfile(source_data_zip_path):\n",
    "        raise Exception(f\"download source data file to {workdir}\")\n",
    "\n",
    "    df = None\n",
    "    with zipfile.ZipFile(source_data_zip_path) as zf:\n",
    "        df = pd.read_csv(zf.open('train.csv'), index_col=False)\n",
    "        df.drop(df.columns[0], axis=1, inplace=True) # drop Kaggle index\n",
    "        \n",
    "    display(df.shape)\n",
    "\n",
    "    # Convert target to log of targetn = dfull.shape[0]\n",
    "    n = df.shape[0]\n",
    "    columns = []\n",
    "\n",
    "    for i in range(0, 116):\n",
    "        print(i, end=\" \")\n",
    "        enc = pre.OrdinalEncoder(dtype=np.uint32)\n",
    "        encoded = enc.fit_transform(df.iloc[:,i:i+1])\n",
    "        columns.append(encoded)\n",
    "\n",
    "    cat_nparray = np.concatenate(columns).reshape((n, 116), order='F')\n",
    "    cat_df = pd.DataFrame(cat_nparray, columns=df.columns[0:116])\n",
    "    num_df = df.iloc[:,116:]\n",
    "    num_df = num_df.astype(np.float32)\n",
    "    num_df['loss'] = num_df.iloc[:,-1].apply(np.log) # log transform target\n",
    "\n",
    "    dfull = pd.concat([cat_df, num_df], axis=1)\n",
    "    \n",
    "    # Write file to HDF5\n",
    "    dfull.to_hdf(source_data_h5_path, h5_key, complevel=9)"
   ]
  }
 ],
 "metadata": {
  "kernelspec": {
   "display_name": "Python 3",
   "language": "python",
   "name": "python3"
  },
  "language_info": {
   "codemirror_mode": {
    "name": "ipython",
    "version": 3
   },
   "file_extension": ".py",
   "mimetype": "text/x-python",
   "name": "python",
   "nbconvert_exporter": "python",
   "pygments_lexer": "ipython3",
   "version": "3.7.3"
  }
 },
 "nbformat": 4,
 "nbformat_minor": 2
}
