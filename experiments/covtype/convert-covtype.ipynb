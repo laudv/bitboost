{
 "cells": [
  {
   "cell_type": "code",
   "execution_count": null,
   "metadata": {},
   "outputs": [],
   "source": [
    "%load_ext autoreload\n",
    "%autoreload 2"
   ]
  },
  {
   "cell_type": "markdown",
   "metadata": {},
   "source": [
    "# Covertype\n",
    "## Load and transform the dataset¶\n"
   ]
  },
  {
   "cell_type": "code",
   "execution_count": null,
   "metadata": {},
   "outputs": [],
   "source": [
    "# Source:\n",
    "# =======\n",
    "# https://www.kaggle.com/uciml/forest-cover-type-dataset\n",
    "#\n",
    "# Dataset info:\n",
    "# =============\n",
    "# elevation                               quantitative    meters                       elevation in meters\n",
    "# aspect                                  quantitative    azimuth                      aspect in degrees azimuth\n",
    "# slope                                   quantitative    degrees                      slope in degrees\n",
    "# horizontal_distance_to_hydrology        quantitative    meters                       horz dist to nearest surface water features\n",
    "# vertical_distance_to_hydrology          quantitative    meters                       vert dist to nearest surface water features\n",
    "# horizontal_distance_to_roadways         quantitative    meters                       horz dist to nearest roadway\n",
    "# hillshade_9am                           quantitative    0 to 255 index               hillshade index at 9am, summer solstice\n",
    "# hillshade_noon                          quantitative    0 to 255 index               hillshade index at noon, summer soltice\n",
    "# hillshade_3pm                           quantitative    0 to 255 index               hillshade index at 3pm, summer solstice\n",
    "# horizontal_distance_to_fire_points      quantitative    meters                       horz dist to nearest wildfire ignition points\n",
    "# wilderness_area (4 binary columns)      qualitative     0 (absence) or 1 (presence)  wilderness area designation\n",
    "# soil_type (40 binary columns)           qualitative     0 (absence) or 1 (presence)  soil type designation\n",
    "# cover_type (7 types)                    integer         1 to 7                       forest cover type designation\n",
    "#\n",
    "#                              id    name                  count   encoding 1     encoding 2\n",
    "# Forest Cover Type Classes:    1 -- Spruce/Fir           211840   needles   0    other 0\n",
    "#                               2 -- Lodgepole Pine       283301   needles   0    lpine 1\n",
    "#                               3 -- Ponderosa Pine        35754   needles   0    other 0\n",
    "#                               4 -- Cottonwood/Willow      2747   broadleaf 1    other 0\n",
    "#                               5 -- Aspen                  9493   broadleaf 1    other 0\n",
    "#                               6 -- Douglas-fir           17367   needles   0    other 0\n",
    "#                               7 -- Krummholz             20510   needles   0    other 0\n",
    "\n",
    "import io, os, sys, timeit\n",
    "import pandas as pd\n",
    "import zipfile\n",
    "import numpy as np\n",
    "\n",
    "workdir = \"/tmp/experiments/covertype\"\n",
    "source_data_zip = \"covtype.csv.zip\"\n",
    "source_data_zip_path = os.path.join(workdir, source_data_zip)\n",
    "source_data_h5_1 = \"covtype-lodgepole-vs-rest.h5\"\n",
    "source_data_h5_1_path = os.path.join(workdir, source_data_h5_1)\n",
    "source_data_h5_2 = \"covtype-broadleaf-vs-rest.h5\"\n",
    "source_data_h5_2_path = os.path.join(workdir, source_data_h5_2)\n",
    "h5_key = \"dataset\"\n",
    "\n",
    "bitboost_path = \"..\"\n",
    "\n",
    "if not os.path.isdir(workdir):\n",
    "    os.makedirs(workdir)"
   ]
  },
  {
   "cell_type": "code",
   "execution_count": null,
   "metadata": {},
   "outputs": [],
   "source": [
    "# Prep the source data file if prepped files do not exist\n",
    "if not os.path.isfile(source_data_h5_1_path):\n",
    "    if not os.path.isfile(source_data_zip_path):\n",
    "        raise Exception(f\"download source data file to {workdir}\")\n",
    "\n",
    "    df = None\n",
    "    with zipfile.ZipFile(source_data_zip_path) as zf:\n",
    "        df = pd.read_csv(zf.open('covtype.csv'), dtype=np.float32)\n",
    "\n",
    "    # Map multiclass classification problem to lodgepole vs rest (balanced)\n",
    "    df_lodgepole = df.copy()\n",
    "    df_lodgepole[\"Cover_Type\"] = df[\"Cover_Type\"].map(dict(zip([1,2,3,4,5,6,7],\n",
    "                                                               [0,1,0,0,0,0,0])))\n",
    "\n",
    "    # Write files as HDF5\n",
    "    df_lodgepole.to_hdf(source_data_h5_1_path, h5_key, complevel=9)"
   ]
  },
  {
   "cell_type": "code",
   "execution_count": null,
   "metadata": {},
   "outputs": [],
   "source": [
    "# Prep the source data file if prepped files do not exist\n",
    "if not os.path.isfile(source_data_h5_2_path):\n",
    "    if not os.path.isfile(source_data_zip_path):\n",
    "        raise Exception(f\"download source data file to {workdir}\")\n",
    "\n",
    "    df = None\n",
    "    with zipfile.ZipFile(source_data_zip_path) as zf:\n",
    "        df = pd.read_csv(zf.open('covtype.csv'), dtype=np.float32)\n",
    "    \n",
    "    # Map multiclass classification problem to broadleaf vs needles (unbalanced)\n",
    "    df_broadleaf = df.copy()\n",
    "    df_broadleaf[\"Cover_Type\"] = df[\"Cover_Type\"].map(dict(zip([1,2,3,4,5,6,7],\n",
    "                                                               [0,0,0,1,1,0,0])))\n",
    "\n",
    "    # Write files as HDF5\n",
    "    df_broadleaf.to_hdf(source_data_h5_2_path, h5_key, complevel=9)"
   ]
  },
  {
   "cell_type": "code",
   "execution_count": null,
   "metadata": {},
   "outputs": [],
   "source": []
  }
 ],
 "metadata": {
  "kernelspec": {
   "display_name": "Python 3",
   "language": "python",
   "name": "python3"
  },
  "language_info": {
   "codemirror_mode": {
    "name": "ipython",
    "version": 3
   },
   "file_extension": ".py",
   "mimetype": "text/x-python",
   "name": "python",
   "nbconvert_exporter": "python",
   "pygments_lexer": "ipython3",
   "version": "3.7.3"
  }
 },
 "nbformat": 4,
 "nbformat_minor": 2
}
